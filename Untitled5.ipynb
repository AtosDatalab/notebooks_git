{
 "cells": [
  {
   "cell_type": "code",
   "execution_count": 35,
   "metadata": {},
   "outputs": [],
   "source": [
    "from pyspark import SparkContext\n",
    "from pyspark.sql.session import SparkSession\n",
    "from pyspark.ml.classification import LogisticRegression\n",
    "import pandas as pd\n",
    "from pyspark.ml.feature import VectorAssembler\n"
   ]
  },
  {
   "cell_type": "code",
   "execution_count": 38,
   "metadata": {},
   "outputs": [],
   "source": [
    "#sc = SparkContext('local')\n",
    "spark = SparkSession(sc)"
   ]
  },
  {
   "cell_type": "code",
   "execution_count": 39,
   "metadata": {},
   "outputs": [],
   "source": [
    "df= spark.read.csv('hdfs://192.168.122.206:8020/testN/EcommerceCustomers.csv')"
   ]
  },
  {
   "cell_type": "code",
   "execution_count": 40,
   "metadata": {},
   "outputs": [
    {
     "data": {
      "text/plain": [
       "DataFrame[_c0: string, _c1: string, _c2: string, _c3: string, _c4: string, _c5: string, _c6: string, _c7: string]"
      ]
     },
     "execution_count": 40,
     "metadata": {},
     "output_type": "execute_result"
    }
   ],
   "source": [
    "df"
   ]
  },
  {
   "cell_type": "code",
   "execution_count": 41,
   "metadata": {},
   "outputs": [
    {
     "name": "stdout",
     "output_type": "stream",
     "text": [
      "+--------------------+--------------------+------------------+------------------+------------------+------------------+--------------------+-------------------+\n",
      "|                 _c0|                 _c1|               _c2|               _c3|               _c4|               _c5|                 _c6|                _c7|\n",
      "+--------------------+--------------------+------------------+------------------+------------------+------------------+--------------------+-------------------+\n",
      "|               Email|             Address|            Avatar|Avg Session Length|       Time on App|   Time on Website|Length of Membership|Yearly Amount Spent|\n",
      "|mstephenson@ferna...|    835 Frank Tunnel|              null|              null|              null|              null|                null|               null|\n",
      "|         Wrightmouth|      MI 82180-9605\"|            Violet| 34.49726772511229|12.655651149166752| 39.57766801952616|   4.082620632952961|  587.9510539684005|\n",
      "|   hduke@hotmail.com|  4547 Archer Common|              null|              null|              null|              null|                null|               null|\n",
      "|         Diazchester|      CA 06566-8576\"|         DarkGreen|31.926272026360156|11.109460728682564|37.268958868297744|    2.66403418213262|  392.2049334443264|\n",
      "|    pallen@yahoo.com|24645 Valerie Uni...|              null|              null|              null|              null|                null|               null|\n",
      "|         Cobbborough|      DC 99414-7564\"|            Bisque|33.000914755642675|11.330278057777512| 37.11059744212085|   4.104543202376424| 487.54750486747207|\n",
      "|riverarebecca@gma...|1414 David Throug...|              null|              null|              null|              null|                null|               null|\n",
      "|          Port Jason|      OH 22070-1220\"|       SaddleBrown| 34.30555662975554|13.717513665142508| 36.72128267790313|  3.1201787827480914|  581.8523440352178|\n",
      "|mstephens@davidso...|14023 Rodriguez P...|              null|              null|              null|              null|                null|               null|\n",
      "|     Port Jacobville|      PR 37242-1057\"|  MediumAquaMarine| 33.33067252364639|12.795188551078114| 37.53665330059473|   4.446308318351435|  599.4060920457634|\n",
      "|alvareznancy@luca...|645 Martha Park A...|              null|              null|              null|              null|                null|               null|\n",
      "|      Jeffreychester|      MN 67218-7250\"|       FloralWhite| 33.87103787934198|12.026925339755058| 34.47687762925054|   5.493507201364199|   637.102447915074|\n",
      "|katherine20@yahoo...|68388 Reyes Light...|              null|              null|              null|              null|                null|               null|\n",
      "|          Josephbury|      WV 92213-0247\"|     DarkSlateBlue| 32.02159550138701|11.366348309710526|36.683776152869605|  4.6850172465709115|  521.5721747578274|\n",
      "|  awatkins@yahoo.com|  Unit 6538 Box 8980|              null|              null|              null|              null|                null|               null|\n",
      "|  DPO AP 09026-4941\"|                Aqua|32.739142938380326| 12.35195897300293|37.373358858547554|4.4342734348999375|   549.9041461052942|               null|\n",
      "|vchurch@walter-ma...|         860 Lee Key|              null|              null|              null|              null|                null|               null|\n",
      "|          West Debra|      SD 97450-0495\"|            Salmon| 33.98777289568564|13.386235275676434|37.534497341555735|  3.2734335777477144|  570.2004089636195|\n",
      "|    bonnie69@lin.biz|  PSC 2734, Box 5255|              null|              null|              null|              null|                null|               null|\n",
      "+--------------------+--------------------+------------------+------------------+------------------+------------------+--------------------+-------------------+\n",
      "only showing top 20 rows\n",
      "\n"
     ]
    }
   ],
   "source": [
    "df.show()"
   ]
  },
  {
   "cell_type": "code",
   "execution_count": 42,
   "metadata": {},
   "outputs": [
    {
     "data": {
      "text/plain": [
       "[('_c0', 'string'),\n",
       " ('_c1', 'string'),\n",
       " ('_c2', 'string'),\n",
       " ('_c3', 'string'),\n",
       " ('_c4', 'string'),\n",
       " ('_c5', 'string'),\n",
       " ('_c6', 'string'),\n",
       " ('_c7', 'string')]"
      ]
     },
     "execution_count": 42,
     "metadata": {},
     "output_type": "execute_result"
    }
   ],
   "source": [
    "df.dtypes\n"
   ]
  },
  {
   "cell_type": "code",
   "execution_count": 43,
   "metadata": {},
   "outputs": [
    {
     "name": "stdout",
     "output_type": "stream",
     "text": [
      "root\n",
      " |-- _c0: string (nullable = true)\n",
      " |-- _c1: string (nullable = true)\n",
      " |-- _c2: string (nullable = true)\n",
      " |-- _c3: string (nullable = true)\n",
      " |-- _c4: string (nullable = true)\n",
      " |-- _c5: string (nullable = true)\n",
      " |-- _c6: string (nullable = true)\n",
      " |-- _c7: string (nullable = true)\n",
      "\n"
     ]
    }
   ],
   "source": [
    "df.printSchema()"
   ]
  },
  {
   "cell_type": "code",
   "execution_count": 45,
   "metadata": {},
   "outputs": [
    {
     "name": "stdout",
     "output_type": "stream",
     "text": [
      "+-------------------+\n",
      "|                _c7|\n",
      "+-------------------+\n",
      "|Yearly Amount Spent|\n",
      "|               null|\n",
      "|  587.9510539684005|\n",
      "|               null|\n",
      "|  392.2049334443264|\n",
      "|               null|\n",
      "| 487.54750486747207|\n",
      "|               null|\n",
      "|  581.8523440352178|\n",
      "|               null|\n",
      "|  599.4060920457634|\n",
      "|               null|\n",
      "|   637.102447915074|\n",
      "|               null|\n",
      "|  521.5721747578274|\n",
      "|               null|\n",
      "|               null|\n",
      "|               null|\n",
      "|  570.2004089636195|\n",
      "|               null|\n",
      "+-------------------+\n",
      "only showing top 20 rows\n",
      "\n"
     ]
    }
   ],
   "source": [
    "df.select('_c7').show()"
   ]
  },
  {
   "cell_type": "code",
   "execution_count": 54,
   "metadata": {},
   "outputs": [],
   "source": [
    "# File location and type\n",
    "file_location = \"hdfs://192.168.122.206:8020/testN/EcommerceCustomers.csv\"\n",
    "file_type = \"csv\"\n",
    "\n",
    "# The applied options are for CSV files. For other file types, these will be ignored.\n",
    "df1 = spark.read.format(file_type) \\\n",
    "  .option(\"inferSchema\", infer_schema) \\\n",
    "  .option(\"header\", first_row_is_header) \\\n",
    "  .option(\"sep\", delimiter) \\\n",
    "  .load(file_location)\n"
   ]
  },
  {
   "cell_type": "code",
   "execution_count": 55,
   "metadata": {},
   "outputs": [
    {
     "data": {
      "text/plain": [
       "DataFrame[Email: string, Address: string, Avatar: string, Avg Session Length: string, Time on App: string, Time on Website: string, Length of Membership: string, Yearly Amount Spent: string]"
      ]
     },
     "execution_count": 55,
     "metadata": {},
     "output_type": "execute_result"
    }
   ],
   "source": [
    "df1"
   ]
  },
  {
   "cell_type": "code",
   "execution_count": 56,
   "metadata": {},
   "outputs": [
    {
     "name": "stdout",
     "output_type": "stream",
     "text": [
      "+--------------------+--------------------+------------------+------------------+------------------+------------------+--------------------+-------------------+\n",
      "|               Email|             Address|            Avatar|Avg Session Length|       Time on App|   Time on Website|Length of Membership|Yearly Amount Spent|\n",
      "+--------------------+--------------------+------------------+------------------+------------------+------------------+--------------------+-------------------+\n",
      "|mstephenson@ferna...|    835 Frank Tunnel|              null|              null|              null|              null|                null|               null|\n",
      "|         Wrightmouth|      MI 82180-9605\"|            Violet| 34.49726772511229|12.655651149166752| 39.57766801952616|   4.082620632952961|  587.9510539684005|\n",
      "|   hduke@hotmail.com|  4547 Archer Common|              null|              null|              null|              null|                null|               null|\n",
      "|         Diazchester|      CA 06566-8576\"|         DarkGreen|31.926272026360156|11.109460728682564|37.268958868297744|    2.66403418213262|  392.2049334443264|\n",
      "|    pallen@yahoo.com|24645 Valerie Uni...|              null|              null|              null|              null|                null|               null|\n",
      "|         Cobbborough|      DC 99414-7564\"|            Bisque|33.000914755642675|11.330278057777512| 37.11059744212085|   4.104543202376424| 487.54750486747207|\n",
      "|riverarebecca@gma...|1414 David Throug...|              null|              null|              null|              null|                null|               null|\n",
      "|          Port Jason|      OH 22070-1220\"|       SaddleBrown| 34.30555662975554|13.717513665142508| 36.72128267790313|  3.1201787827480914|  581.8523440352178|\n",
      "|mstephens@davidso...|14023 Rodriguez P...|              null|              null|              null|              null|                null|               null|\n",
      "|     Port Jacobville|      PR 37242-1057\"|  MediumAquaMarine| 33.33067252364639|12.795188551078114| 37.53665330059473|   4.446308318351435|  599.4060920457634|\n",
      "|alvareznancy@luca...|645 Martha Park A...|              null|              null|              null|              null|                null|               null|\n",
      "|      Jeffreychester|      MN 67218-7250\"|       FloralWhite| 33.87103787934198|12.026925339755058| 34.47687762925054|   5.493507201364199|   637.102447915074|\n",
      "|katherine20@yahoo...|68388 Reyes Light...|              null|              null|              null|              null|                null|               null|\n",
      "|          Josephbury|      WV 92213-0247\"|     DarkSlateBlue| 32.02159550138701|11.366348309710526|36.683776152869605|  4.6850172465709115|  521.5721747578274|\n",
      "|  awatkins@yahoo.com|  Unit 6538 Box 8980|              null|              null|              null|              null|                null|               null|\n",
      "|  DPO AP 09026-4941\"|                Aqua|32.739142938380326| 12.35195897300293|37.373358858547554|4.4342734348999375|   549.9041461052942|               null|\n",
      "|vchurch@walter-ma...|         860 Lee Key|              null|              null|              null|              null|                null|               null|\n",
      "|          West Debra|      SD 97450-0495\"|            Salmon| 33.98777289568564|13.386235275676434|37.534497341555735|  3.2734335777477144|  570.2004089636195|\n",
      "|    bonnie69@lin.biz|  PSC 2734, Box 5255|              null|              null|              null|              null|                null|               null|\n",
      "|  APO AA 98456-7482\"|               Brown|31.936548618448914|11.814128294972196| 37.14516822352819| 3.202806071553459|  427.19938489532814|               null|\n",
      "+--------------------+--------------------+------------------+------------------+------------------+------------------+--------------------+-------------------+\n",
      "only showing top 20 rows\n",
      "\n"
     ]
    }
   ],
   "source": [
    "df1.show()"
   ]
  },
  {
   "cell_type": "code",
   "execution_count": 57,
   "metadata": {},
   "outputs": [
    {
     "name": "stdout",
     "output_type": "stream",
     "text": [
      "root\n",
      " |-- Email: string (nullable = true)\n",
      " |-- Address: string (nullable = true)\n",
      " |-- Avatar: string (nullable = true)\n",
      " |-- Avg Session Length: string (nullable = true)\n",
      " |-- Time on App: string (nullable = true)\n",
      " |-- Time on Website: string (nullable = true)\n",
      " |-- Length of Membership: string (nullable = true)\n",
      " |-- Yearly Amount Spent: string (nullable = true)\n",
      "\n"
     ]
    }
   ],
   "source": [
    "df1.printSchema()"
   ]
  },
  {
   "cell_type": "code",
   "execution_count": 58,
   "metadata": {},
   "outputs": [
    {
     "name": "stdout",
     "output_type": "stream",
     "text": [
      "+-------+------------------+-----------+------------------+------------------+------------------+------------------+--------------------+-------------------+\n",
      "|summary|             Email|    Address|            Avatar|Avg Session Length|       Time on App|   Time on Website|Length of Membership|Yearly Amount Spent|\n",
      "+-------+------------------+-----------+------------------+------------------+------------------+------------------+--------------------+-------------------+\n",
      "|  count|              1000|       1000|               500|               500|               500|               500|                 500|                454|\n",
      "|   mean|              null|       null|33.058900610740785|31.130461514638228|14.350284262734618| 33.95692625943925|   48.60730499130784| 499.91985771641924|\n",
      "| stddev|              null|       null|0.9518717613059207| 6.128380357402919|  7.32783840726642| 9.787360915468765|   144.2169189098249|   78.3257926883325|\n",
      "|    min|APO AA 17032-7944\"|  AK 05665\"|30.879484344127498| 10.04731473507118|10.012583366223023|0.7895199078816915|  0.2699010899842742|   266.086340948469|\n",
      "|    max| zscott@wright.com|YellowGreen|       YellowGreen|   9.8244017703894|  9.98451439654646| 6.922689335035807|   744.2218671047146|  765.5184619388372|\n",
      "+-------+------------------+-----------+------------------+------------------+------------------+------------------+--------------------+-------------------+\n",
      "\n"
     ]
    }
   ],
   "source": [
    "df1.describe().show()"
   ]
  },
  {
   "cell_type": "code",
   "execution_count": 59,
   "metadata": {},
   "outputs": [
    {
     "name": "stdout",
     "output_type": "stream",
     "text": [
      "+-------------------+\n",
      "|Yearly Amount Spent|\n",
      "+-------------------+\n",
      "|               null|\n",
      "|  587.9510539684005|\n",
      "|               null|\n",
      "|  392.2049334443264|\n",
      "|               null|\n",
      "| 487.54750486747207|\n",
      "|               null|\n",
      "|  581.8523440352178|\n",
      "|               null|\n",
      "|  599.4060920457634|\n",
      "|               null|\n",
      "|   637.102447915074|\n",
      "|               null|\n",
      "|  521.5721747578274|\n",
      "|               null|\n",
      "|               null|\n",
      "|               null|\n",
      "|  570.2004089636195|\n",
      "|               null|\n",
      "|               null|\n",
      "+-------------------+\n",
      "only showing top 20 rows\n",
      "\n"
     ]
    }
   ],
   "source": [
    "df1.select('Yearly Amount Spent').show()"
   ]
  },
  {
   "cell_type": "raw",
   "metadata": {},
   "source": [
    "cols = df1.drop('Yearly Amount Spent').columns\n",
    "cols"
   ]
  },
  {
   "cell_type": "code",
   "execution_count": null,
   "metadata": {},
   "outputs": [],
   "source": []
  }
 ],
 "metadata": {
  "kernelspec": {
   "display_name": "Python 3",
   "language": "python",
   "name": "python3"
  },
  "language_info": {
   "codemirror_mode": {
    "name": "ipython",
    "version": 3
   },
   "file_extension": ".py",
   "mimetype": "text/x-python",
   "name": "python",
   "nbconvert_exporter": "python",
   "pygments_lexer": "ipython3",
   "version": "3.7.6"
  }
 },
 "nbformat": 4,
 "nbformat_minor": 4
}
