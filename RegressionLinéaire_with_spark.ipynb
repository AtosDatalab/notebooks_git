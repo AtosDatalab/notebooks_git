{
 "cells": [
  {
   "cell_type": "code",
   "execution_count": 201,
   "metadata": {},
   "outputs": [],
   "source": [
    "# Charger les libriries qu'il faudra pour le taraitement \n",
    "import findspark    \n",
    "import pandas as pd\n",
    "import numpy as np\n",
    "from pyspark import SparkContext\n",
    "from pyspark.sql.session import SparkSession\n",
    "from pyspark.ml.feature import VectorAssembler \n",
    "from pyspark.sql.functions import col\n"
   ]
  },
  {
   "cell_type": "code",
   "execution_count": 202,
   "metadata": {},
   "outputs": [],
   "source": [
    "#sc = SparkContext('local')\n",
    "spark = SparkSession(sc)"
   ]
  },
  {
   "cell_type": "code",
   "execution_count": 203,
   "metadata": {},
   "outputs": [],
   "source": [
    "# File location and type\n",
    "file_location = \"hdfs://192.168.122.206:8020/testN/EcommerceCustomers.csv\"\n",
    "file_type = \"csv\"\n",
    "\n",
    "# CSV options\n",
    "infer_schema = \"false\"\n",
    "first_row_is_header = \"true\"\n",
    "delimiter = \",\"\n",
    "\n",
    "# The applied options are for CSV files. For other file types, these will be ignored.\n",
    "df = spark.read.format(file_type) \\\n",
    "  .option(\"inferSchema\", infer_schema) \\\n",
    "  .option(\"header\", first_row_is_header) \\\n",
    "  .option(\"sep\", delimiter) \\\n",
    "  .load(file_location)"
   ]
  },
  {
   "cell_type": "code",
   "execution_count": 204,
   "metadata": {},
   "outputs": [
    {
     "data": {
      "text/plain": [
       "DataFrame[Email: string, Address: string, Avatar: string, Avg Session Length: string, Time on App: string, Time on Website: string, Length of Membership: string, Yearly Amount Spent: string]"
      ]
     },
     "execution_count": 204,
     "metadata": {},
     "output_type": "execute_result"
    }
   ],
   "source": [
    "df"
   ]
  },
  {
   "cell_type": "code",
   "execution_count": 205,
   "metadata": {},
   "outputs": [
    {
     "name": "stdout",
     "output_type": "stream",
     "text": [
      "+--------------------+--------------------+------------------+------------------+------------------+------------------+--------------------+-------------------+\n",
      "|               Email|             Address|            Avatar|Avg Session Length|       Time on App|   Time on Website|Length of Membership|Yearly Amount Spent|\n",
      "+--------------------+--------------------+------------------+------------------+------------------+------------------+--------------------+-------------------+\n",
      "|mstephenson@ferna...|    835 Frank Tunnel|              null|              null|              null|              null|                null|               null|\n",
      "|         Wrightmouth|      MI 82180-9605\"|            Violet| 34.49726772511229|12.655651149166752| 39.57766801952616|   4.082620632952961|  587.9510539684005|\n",
      "|   hduke@hotmail.com|  4547 Archer Common|              null|              null|              null|              null|                null|               null|\n",
      "|         Diazchester|      CA 06566-8576\"|         DarkGreen|31.926272026360156|11.109460728682564|37.268958868297744|    2.66403418213262|  392.2049334443264|\n",
      "|    pallen@yahoo.com|24645 Valerie Uni...|              null|              null|              null|              null|                null|               null|\n",
      "|         Cobbborough|      DC 99414-7564\"|            Bisque|33.000914755642675|11.330278057777512| 37.11059744212085|   4.104543202376424| 487.54750486747207|\n",
      "|riverarebecca@gma...|1414 David Throug...|              null|              null|              null|              null|                null|               null|\n",
      "|          Port Jason|      OH 22070-1220\"|       SaddleBrown| 34.30555662975554|13.717513665142508| 36.72128267790313|  3.1201787827480914|  581.8523440352178|\n",
      "|mstephens@davidso...|14023 Rodriguez P...|              null|              null|              null|              null|                null|               null|\n",
      "|     Port Jacobville|      PR 37242-1057\"|  MediumAquaMarine| 33.33067252364639|12.795188551078114| 37.53665330059473|   4.446308318351435|  599.4060920457634|\n",
      "|alvareznancy@luca...|645 Martha Park A...|              null|              null|              null|              null|                null|               null|\n",
      "|      Jeffreychester|      MN 67218-7250\"|       FloralWhite| 33.87103787934198|12.026925339755058| 34.47687762925054|   5.493507201364199|   637.102447915074|\n",
      "|katherine20@yahoo...|68388 Reyes Light...|              null|              null|              null|              null|                null|               null|\n",
      "|          Josephbury|      WV 92213-0247\"|     DarkSlateBlue| 32.02159550138701|11.366348309710526|36.683776152869605|  4.6850172465709115|  521.5721747578274|\n",
      "|  awatkins@yahoo.com|  Unit 6538 Box 8980|              null|              null|              null|              null|                null|               null|\n",
      "|  DPO AP 09026-4941\"|                Aqua|32.739142938380326| 12.35195897300293|37.373358858547554|4.4342734348999375|   549.9041461052942|               null|\n",
      "|vchurch@walter-ma...|         860 Lee Key|              null|              null|              null|              null|                null|               null|\n",
      "|          West Debra|      SD 97450-0495\"|            Salmon| 33.98777289568564|13.386235275676434|37.534497341555735|  3.2734335777477144|  570.2004089636195|\n",
      "|    bonnie69@lin.biz|  PSC 2734, Box 5255|              null|              null|              null|              null|                null|               null|\n",
      "|  APO AA 98456-7482\"|               Brown|31.936548618448914|11.814128294972196| 37.14516822352819| 3.202806071553459|  427.19938489532814|               null|\n",
      "+--------------------+--------------------+------------------+------------------+------------------+------------------+--------------------+-------------------+\n",
      "only showing top 20 rows\n",
      "\n"
     ]
    }
   ],
   "source": [
    "df.show()"
   ]
  },
  {
   "cell_type": "code",
   "execution_count": 206,
   "metadata": {},
   "outputs": [
    {
     "name": "stdout",
     "output_type": "stream",
     "text": [
      "root\n",
      " |-- Email: string (nullable = true)\n",
      " |-- Address: string (nullable = true)\n",
      " |-- Avatar: string (nullable = true)\n",
      " |-- Avg Session Length: string (nullable = true)\n",
      " |-- Time on App: string (nullable = true)\n",
      " |-- Time on Website: string (nullable = true)\n",
      " |-- Length of Membership: string (nullable = true)\n",
      " |-- Yearly Amount Spent: string (nullable = true)\n",
      "\n"
     ]
    }
   ],
   "source": [
    "df.printSchema()"
   ]
  },
  {
   "cell_type": "code",
   "execution_count": 207,
   "metadata": {},
   "outputs": [
    {
     "name": "stdout",
     "output_type": "stream",
     "text": [
      "+-------+------------------+-----------+------------------+------------------+------------------+------------------+--------------------+-------------------+\n",
      "|summary|             Email|    Address|            Avatar|Avg Session Length|       Time on App|   Time on Website|Length of Membership|Yearly Amount Spent|\n",
      "+-------+------------------+-----------+------------------+------------------+------------------+------------------+--------------------+-------------------+\n",
      "|  count|              1000|       1000|               500|               500|               500|               500|                 500|                454|\n",
      "|   mean|              null|       null|33.058900610740785|31.130461514638228|14.350284262734618| 33.95692625943925|   48.60730499130784| 499.91985771641924|\n",
      "| stddev|              null|       null|0.9518717613059207| 6.128380357402919|  7.32783840726642| 9.787360915468765|   144.2169189098249|   78.3257926883325|\n",
      "|    min|APO AA 17032-7944\"|  AK 05665\"|30.879484344127498| 10.04731473507118|10.012583366223023|0.7895199078816915|  0.2699010899842742|   266.086340948469|\n",
      "|    max| zscott@wright.com|YellowGreen|       YellowGreen|   9.8244017703894|  9.98451439654646| 6.922689335035807|   744.2218671047146|  765.5184619388372|\n",
      "+-------+------------------+-----------+------------------+------------------+------------------+------------------+--------------------+-------------------+\n",
      "\n"
     ]
    }
   ],
   "source": [
    "df.describe().show()"
   ]
  },
  {
   "cell_type": "raw",
   "metadata": {},
   "source": [
    "#dfn = dfn.withColumnRenamed('Avg Session Length','AvgSessionLength')\n",
    "dfn = dfn.withColumnRenamed('Time on App','TimeonApp')\n",
    "dfn = dfn.withColumnRenamed('Time on Website','TimeonWebsite')\n",
    "dfn = dfn.withColumnRenamed('Length of Membership','LengthofMembership')\n",
    "dfn = dfn.withColumnRenamed('Yearly Amount Spent','YearlyAmountSpent')"
   ]
  },
  {
   "cell_type": "code",
   "execution_count": 208,
   "metadata": {},
   "outputs": [
    {
     "name": "stdout",
     "output_type": "stream",
     "text": [
      "+-------------------+\n",
      "|Yearly Amount Spent|\n",
      "+-------------------+\n",
      "|               null|\n",
      "|  587.9510539684005|\n",
      "|               null|\n",
      "|  392.2049334443264|\n",
      "|               null|\n",
      "| 487.54750486747207|\n",
      "|               null|\n",
      "|  581.8523440352178|\n",
      "|               null|\n",
      "|  599.4060920457634|\n",
      "|               null|\n",
      "|   637.102447915074|\n",
      "|               null|\n",
      "|  521.5721747578274|\n",
      "|               null|\n",
      "|               null|\n",
      "|               null|\n",
      "|  570.2004089636195|\n",
      "|               null|\n",
      "|               null|\n",
      "+-------------------+\n",
      "only showing top 20 rows\n",
      "\n"
     ]
    }
   ],
   "source": [
    "\n",
    "df.select('Yearly Amount Spent').show()"
   ]
  },
  {
   "cell_type": "code",
   "execution_count": 209,
   "metadata": {},
   "outputs": [],
   "source": [
    "#test = df.select('Email','Address','Avatar')\n",
    "#test.show()"
   ]
  },
  {
   "cell_type": "code",
   "execution_count": 210,
   "metadata": {},
   "outputs": [],
   "source": [
    "# supprimer les colonnes non importantes pour la correlation \n",
    "\n",
    "dfm = df.drop('Email','Address','Avatar')"
   ]
  },
  {
   "cell_type": "code",
   "execution_count": 211,
   "metadata": {},
   "outputs": [
    {
     "name": "stdout",
     "output_type": "stream",
     "text": [
      "+------------------+------------------+------------------+--------------------+-------------------+\n",
      "|Avg Session Length|       Time on App|   Time on Website|Length of Membership|Yearly Amount Spent|\n",
      "+------------------+------------------+------------------+--------------------+-------------------+\n",
      "|              null|              null|              null|                null|               null|\n",
      "| 34.49726772511229|12.655651149166752| 39.57766801952616|   4.082620632952961|  587.9510539684005|\n",
      "|              null|              null|              null|                null|               null|\n",
      "|31.926272026360156|11.109460728682564|37.268958868297744|    2.66403418213262|  392.2049334443264|\n",
      "|              null|              null|              null|                null|               null|\n",
      "|33.000914755642675|11.330278057777512| 37.11059744212085|   4.104543202376424| 487.54750486747207|\n",
      "|              null|              null|              null|                null|               null|\n",
      "| 34.30555662975554|13.717513665142508| 36.72128267790313|  3.1201787827480914|  581.8523440352178|\n",
      "|              null|              null|              null|                null|               null|\n",
      "| 33.33067252364639|12.795188551078114| 37.53665330059473|   4.446308318351435|  599.4060920457634|\n",
      "|              null|              null|              null|                null|               null|\n",
      "| 33.87103787934198|12.026925339755058| 34.47687762925054|   5.493507201364199|   637.102447915074|\n",
      "|              null|              null|              null|                null|               null|\n",
      "| 32.02159550138701|11.366348309710526|36.683776152869605|  4.6850172465709115|  521.5721747578274|\n",
      "|              null|              null|              null|                null|               null|\n",
      "| 12.35195897300293|37.373358858547554|4.4342734348999375|   549.9041461052942|               null|\n",
      "|              null|              null|              null|                null|               null|\n",
      "| 33.98777289568564|13.386235275676434|37.534497341555735|  3.2734335777477144|  570.2004089636195|\n",
      "|              null|              null|              null|                null|               null|\n",
      "|11.814128294972196| 37.14516822352819| 3.202806071553459|  427.19938489532814|               null|\n",
      "+------------------+------------------+------------------+--------------------+-------------------+\n",
      "only showing top 20 rows\n",
      "\n"
     ]
    }
   ],
   "source": [
    "dfm.show()"
   ]
  },
  {
   "cell_type": "code",
   "execution_count": 212,
   "metadata": {},
   "outputs": [],
   "source": [
    "# supprimer les valeurs null\n",
    "dfn = dfm.na.drop()"
   ]
  },
  {
   "cell_type": "code",
   "execution_count": 213,
   "metadata": {},
   "outputs": [
    {
     "name": "stdout",
     "output_type": "stream",
     "text": [
      "+------------------+------------------+------------------+--------------------+-------------------+\n",
      "|Avg Session Length|       Time on App|   Time on Website|Length of Membership|Yearly Amount Spent|\n",
      "+------------------+------------------+------------------+--------------------+-------------------+\n",
      "| 34.49726772511229|12.655651149166752| 39.57766801952616|   4.082620632952961|  587.9510539684005|\n",
      "|31.926272026360156|11.109460728682564|37.268958868297744|    2.66403418213262|  392.2049334443264|\n",
      "|33.000914755642675|11.330278057777512| 37.11059744212085|   4.104543202376424| 487.54750486747207|\n",
      "| 34.30555662975554|13.717513665142508| 36.72128267790313|  3.1201787827480914|  581.8523440352178|\n",
      "| 33.33067252364639|12.795188551078114| 37.53665330059473|   4.446308318351435|  599.4060920457634|\n",
      "| 33.87103787934198|12.026925339755058| 34.47687762925054|   5.493507201364199|   637.102447915074|\n",
      "| 32.02159550138701|11.366348309710526|36.683776152869605|  4.6850172465709115|  521.5721747578274|\n",
      "| 33.98777289568564|13.386235275676434|37.534497341555735|  3.2734335777477144|  570.2004089636195|\n",
      "| 33.99257277495374|13.338975447662111| 37.22580613162114|  2.4826077705105956|  492.6060127179966|\n",
      "|29.532428967057946|10.961298400154098| 37.42021557502538|   4.046423164299585| 408.64035107262754|\n",
      "| 33.19033404372265|12.959226091609382|36.144666700041924|  3.9185418391589986|  573.4158673313865|\n",
      "| 32.38797585315387|13.148725692056516| 36.61995708279922|   2.494543646659249| 470.45273330095546|\n",
      "|30.737720372628186|12.636606052000129|36.213763093698624|   3.357846842326294|  461.7807421962299|\n",
      "| 32.12538689728784|11.733861690857392|  34.8940927514398|  3.1361327164897803| 457.84769594494855|\n",
      "| 32.33889932306719|  12.0131946940144| 38.38513659413844|   2.420806160901484|  407.7045475495441|\n",
      "|32.187812045932155|14.715387544156501|38.244114594343515|  1.5165755808319439| 452.31567548003545|\n",
      "| 32.61785606282345|13.989592555825254|37.190503800397956|   4.064548550437977|   605.061038804892|\n",
      "| 32.91278511115979|11.365492025516156| 37.60779252420698|   4.599937357614995|  534.7057438060227|\n",
      "| 34.50755099852662|12.893669504071738| 37.63575587790592|   5.705153970601026|  700.9170916173961|\n",
      "| 33.02933195350689|11.765812645482358|37.738524945579094|  2.7217359920452187| 423.17999168059777|\n",
      "+------------------+------------------+------------------+--------------------+-------------------+\n",
      "only showing top 20 rows\n",
      "\n"
     ]
    }
   ],
   "source": [
    "dfn.show()"
   ]
  },
  {
   "cell_type": "code",
   "execution_count": 214,
   "metadata": {},
   "outputs": [],
   "source": [
    "# Renomer les variables \n",
    "\n",
    "dfn = dfn.withColumnRenamed('Avg Session Length','AvgSessionLength')\n",
    "dfn = dfn.withColumnRenamed('Time on App','TimeonApp')\n",
    "dfn = dfn.withColumnRenamed('Time on Website','TimeonWebsite')\n",
    "dfn = dfn.withColumnRenamed('Length of Membership','LengthofMembership')\n",
    "dfn = dfn.withColumnRenamed('Yearly Amount Spent','YearlyAmountSpent')"
   ]
  },
  {
   "cell_type": "code",
   "execution_count": 215,
   "metadata": {},
   "outputs": [
    {
     "name": "stdout",
     "output_type": "stream",
     "text": [
      "root\n",
      " |-- AvgSessionLength: double (nullable = true)\n",
      " |-- TimeonApp: double (nullable = true)\n",
      " |-- TimeonWebsite: double (nullable = true)\n",
      " |-- LengthofMembership: double (nullable = true)\n",
      " |-- YearlyAmountSpent: double (nullable = true)\n",
      "\n"
     ]
    }
   ],
   "source": [
    "#Convertir les strings en double \n",
    "\n",
    "dfnum = dfn.select(*(col(i).cast(\"double\") for i in dfn.columns))\n",
    "dfnum.printSchema()"
   ]
  },
  {
   "cell_type": "code",
   "execution_count": 216,
   "metadata": {},
   "outputs": [
    {
     "name": "stdout",
     "output_type": "stream",
     "text": [
      "+------------------+------------------+------------------+------------------+\n",
      "|  AvgSessionLength|         TimeonApp|     TimeonWebsite|LengthofMembership|\n",
      "+------------------+------------------+------------------+------------------+\n",
      "| 34.49726772511229|12.655651149166752| 39.57766801952616| 4.082620632952961|\n",
      "|31.926272026360156|11.109460728682564|37.268958868297744|  2.66403418213262|\n",
      "|33.000914755642675|11.330278057777512| 37.11059744212085| 4.104543202376424|\n",
      "| 34.30555662975554|13.717513665142508| 36.72128267790313|3.1201787827480914|\n",
      "| 33.33067252364639|12.795188551078114| 37.53665330059473| 4.446308318351435|\n",
      "| 33.87103787934198|12.026925339755058| 34.47687762925054| 5.493507201364199|\n",
      "| 32.02159550138701|11.366348309710526|36.683776152869605|4.6850172465709115|\n",
      "| 33.98777289568564|13.386235275676434|37.534497341555735|3.2734335777477144|\n",
      "| 33.99257277495374|13.338975447662111| 37.22580613162114|2.4826077705105956|\n",
      "|29.532428967057946|10.961298400154098| 37.42021557502538| 4.046423164299585|\n",
      "| 33.19033404372265|12.959226091609382|36.144666700041924|3.9185418391589986|\n",
      "| 32.38797585315387|13.148725692056516| 36.61995708279922| 2.494543646659249|\n",
      "|30.737720372628186|12.636606052000129|36.213763093698624| 3.357846842326294|\n",
      "| 32.12538689728784|11.733861690857392|  34.8940927514398|3.1361327164897803|\n",
      "| 32.33889932306719|  12.0131946940144| 38.38513659413844| 2.420806160901484|\n",
      "|32.187812045932155|14.715387544156501|38.244114594343515|1.5165755808319439|\n",
      "| 32.61785606282345|13.989592555825254|37.190503800397956| 4.064548550437977|\n",
      "| 32.91278511115979|11.365492025516156| 37.60779252420698| 4.599937357614995|\n",
      "| 34.50755099852662|12.893669504071738| 37.63575587790592| 5.705153970601026|\n",
      "| 33.02933195350689|11.765812645482358|37.738524945579094|2.7217359920452187|\n",
      "+------------------+------------------+------------------+------------------+\n",
      "only showing top 20 rows\n",
      "\n"
     ]
    }
   ],
   "source": [
    "feature_columns= dfnum.drop('YearlyAmountSpent')\n",
    "feature_columns.show()"
   ]
  },
  {
   "cell_type": "code",
   "execution_count": 217,
   "metadata": {},
   "outputs": [],
   "source": [
    "#feature_columns = dfnum.columns[:-1]\n",
    "#feature_columns"
   ]
  },
  {
   "cell_type": "code",
   "execution_count": 218,
   "metadata": {},
   "outputs": [],
   "source": [
    "assembler = VectorAssembler(inputCols=feature_columns.columns,outputCol=\"features\")"
   ]
  },
  {
   "cell_type": "code",
   "execution_count": 219,
   "metadata": {},
   "outputs": [],
   "source": [
    "data= assembler.transform(dfnum)"
   ]
  },
  {
   "cell_type": "code",
   "execution_count": 220,
   "metadata": {},
   "outputs": [
    {
     "name": "stdout",
     "output_type": "stream",
     "text": [
      "+------------------+------------------+------------------+------------------+------------------+--------------------+\n",
      "|  AvgSessionLength|         TimeonApp|     TimeonWebsite|LengthofMembership| YearlyAmountSpent|            features|\n",
      "+------------------+------------------+------------------+------------------+------------------+--------------------+\n",
      "| 34.49726772511229|12.655651149166752| 39.57766801952616| 4.082620632952961| 587.9510539684005|[34.4972677251122...|\n",
      "|31.926272026360156|11.109460728682564|37.268958868297744|  2.66403418213262| 392.2049334443264|[31.9262720263601...|\n",
      "|33.000914755642675|11.330278057777512| 37.11059744212085| 4.104543202376424|487.54750486747207|[33.0009147556426...|\n",
      "| 34.30555662975554|13.717513665142508| 36.72128267790313|3.1201787827480914| 581.8523440352178|[34.3055566297555...|\n",
      "| 33.33067252364639|12.795188551078114| 37.53665330059473| 4.446308318351435| 599.4060920457634|[33.3306725236463...|\n",
      "| 33.87103787934198|12.026925339755058| 34.47687762925054| 5.493507201364199|  637.102447915074|[33.8710378793419...|\n",
      "| 32.02159550138701|11.366348309710526|36.683776152869605|4.6850172465709115| 521.5721747578274|[32.0215955013870...|\n",
      "| 33.98777289568564|13.386235275676434|37.534497341555735|3.2734335777477144| 570.2004089636195|[33.9877728956856...|\n",
      "| 33.99257277495374|13.338975447662111| 37.22580613162114|2.4826077705105956| 492.6060127179966|[33.9925727749537...|\n",
      "|29.532428967057946|10.961298400154098| 37.42021557502538| 4.046423164299585|408.64035107262754|[29.5324289670579...|\n",
      "| 33.19033404372265|12.959226091609382|36.144666700041924|3.9185418391589986| 573.4158673313865|[33.1903340437226...|\n",
      "| 32.38797585315387|13.148725692056516| 36.61995708279922| 2.494543646659249|470.45273330095546|[32.3879758531538...|\n",
      "|30.737720372628186|12.636606052000129|36.213763093698624| 3.357846842326294| 461.7807421962299|[30.7377203726281...|\n",
      "| 32.12538689728784|11.733861690857392|  34.8940927514398|3.1361327164897803|457.84769594494855|[32.1253868972878...|\n",
      "| 32.33889932306719|  12.0131946940144| 38.38513659413844| 2.420806160901484| 407.7045475495441|[32.3388993230671...|\n",
      "|32.187812045932155|14.715387544156501|38.244114594343515|1.5165755808319439|452.31567548003545|[32.1878120459321...|\n",
      "| 32.61785606282345|13.989592555825254|37.190503800397956| 4.064548550437977|  605.061038804892|[32.6178560628234...|\n",
      "| 32.91278511115979|11.365492025516156| 37.60779252420698| 4.599937357614995| 534.7057438060227|[32.9127851111597...|\n",
      "| 34.50755099852662|12.893669504071738| 37.63575587790592| 5.705153970601026| 700.9170916173961|[34.5075509985266...|\n",
      "| 33.02933195350689|11.765812645482358|37.738524945579094|2.7217359920452187|423.17999168059777|[33.0293319535068...|\n",
      "+------------------+------------------+------------------+------------------+------------------+--------------------+\n",
      "only showing top 20 rows\n",
      "\n"
     ]
    }
   ],
   "source": [
    "data.show()"
   ]
  },
  {
   "cell_type": "code",
   "execution_count": 221,
   "metadata": {},
   "outputs": [],
   "source": [
    "trainData, testData = data.randomSplit([.7,.3])"
   ]
  },
  {
   "cell_type": "code",
   "execution_count": 222,
   "metadata": {},
   "outputs": [],
   "source": [
    "# On doit convetir toutes les fonctionnalités en un seul vecteur, en utilisant un assembleur de vecteurs\n",
    "\n",
    "#assembler = VectorAssembler(inputCols=dfnum.columns, outputCol = 'features')\n",
    "#output = assembler.transform(dfnum).select('YearlyAmountSpent', 'features')\n",
    "#output.show(28, truncate = False)"
   ]
  },
  {
   "cell_type": "code",
   "execution_count": null,
   "metadata": {},
   "outputs": [],
   "source": []
  },
  {
   "cell_type": "code",
   "execution_count": 223,
   "metadata": {},
   "outputs": [],
   "source": [
    "#trainData, testData = output.randomSplit([.8,.2])"
   ]
  },
  {
   "cell_type": "code",
   "execution_count": 224,
   "metadata": {},
   "outputs": [],
   "source": [
    "from pyspark.ml.regression import LinearRegression"
   ]
  },
  {
   "cell_type": "code",
   "execution_count": 225,
   "metadata": {},
   "outputs": [],
   "source": [
    "algo = LinearRegression(featuresCol=\"features\", labelCol=\"YearlyAmountSpent\")"
   ]
  },
  {
   "cell_type": "code",
   "execution_count": 226,
   "metadata": {},
   "outputs": [],
   "source": [
    "model = algo.fit(trainData)"
   ]
  },
  {
   "cell_type": "code",
   "execution_count": 227,
   "metadata": {},
   "outputs": [],
   "source": [
    "evaluation_summary = model.evaluate(testData)"
   ]
  },
  {
   "cell_type": "code",
   "execution_count": 228,
   "metadata": {},
   "outputs": [],
   "source": [
    "predictions = model.transform(testData)"
   ]
  },
  {
   "cell_type": "code",
   "execution_count": 229,
   "metadata": {},
   "outputs": [
    {
     "name": "stdout",
     "output_type": "stream",
     "text": [
      "+------------------+--------------------+------------------+\n",
      "| YearlyAmountSpent|            features|        prediction|\n",
      "+------------------+--------------------+------------------+\n",
      "| 442.0644137580656|[30.5743636841713...|442.14921736093015|\n",
      "| 448.9332932076743|[31.0662181616375...| 461.9021172648038|\n",
      "| 557.2526867470547|[31.1280900496166...| 564.9440313091104|\n",
      "| 432.7207178399336|[31.3091926408918...| 429.8409110648058|\n",
      "|495.17595044947535|[31.3584771924370...|491.35757049984386|\n",
      "|  418.602742095224|[31.4474464941278...|426.83843504850756|\n",
      "| 489.8124879964614|[31.5147378578019...| 496.9082639928015|\n",
      "| 544.4092721605869|[31.5741380228732...| 558.6820108590741|\n",
      "| 541.2265839893283|[31.5761319713222...| 543.3172787818919|\n",
      "| 444.5455496511082|[31.6098395733896...| 427.7760540568647|\n",
      "| 376.3369007569242|[31.6253601348306...|382.07199742123385|\n",
      "|416.35835357990084|[31.6610498227460...| 417.5350736488542|\n",
      "|  538.774933478023|[31.7207699002873...| 546.4694444138559|\n",
      "|503.38788728796044|[31.7242025238451...|509.58260773765915|\n",
      "|496.93344625553186|[31.7366356860502...| 493.7694541227911|\n",
      "|496.55408163560713|[31.7656188210424...|502.08177151785844|\n",
      "| 501.1224915036564|[31.8164283341993...|  519.402081759378|\n",
      "|446.41867337013565|[31.8186165667690...| 448.2136100995358|\n",
      "| 390.1032729724755|[31.8854062999117...| 399.8658656369146|\n",
      "|473.94985742281614|[31.9048571310136...| 491.4260668442487|\n",
      "+------------------+--------------------+------------------+\n",
      "only showing top 20 rows\n",
      "\n"
     ]
    }
   ],
   "source": [
    "predictions.select(predictions.columns[-3:]).show()"
   ]
  },
  {
   "cell_type": "code",
   "execution_count": 230,
   "metadata": {},
   "outputs": [
    {
     "name": "stdout",
     "output_type": "stream",
     "text": [
      "+-------------------+\n",
      "|          residuals|\n",
      "+-------------------+\n",
      "|-0.0848036028645538|\n",
      "|-12.968824057129495|\n",
      "| -7.691344562055747|\n",
      "|  2.879806775127804|\n",
      "|  3.818379949631492|\n",
      "| -8.235692953283547|\n",
      "|  -7.09577599634008|\n",
      "|-14.272738698487274|\n",
      "|-2.0906947925635677|\n",
      "| 16.769495594243494|\n",
      "| -5.735096664309651|\n",
      "|-1.1767200689533865|\n",
      "| -7.694510935832909|\n",
      "| -6.194720449698707|\n",
      "|  3.163992132740759|\n",
      "| -5.527689882251309|\n",
      "|-18.279590255721587|\n",
      "| -1.794936729400149|\n",
      "| -9.762592664439069|\n",
      "|-17.476209421432543|\n",
      "+-------------------+\n",
      "only showing top 20 rows\n",
      "\n",
      "RMSE: 9.781957\n",
      "r2: 0.983314\n"
     ]
    }
   ],
   "source": [
    "evaluation_summary.residuals.show()\n",
    "print(\"RMSE: %f\" % evaluation_summary.rootMeanSquaredError)\n",
    "print(\"r2: %f\" % evaluation_summary.r2)"
   ]
  },
  {
   "cell_type": "code",
   "execution_count": 231,
   "metadata": {},
   "outputs": [],
   "source": [
    "import matplotlib.pyplot as plt\n",
    "import numpy as np"
   ]
  },
  {
   "cell_type": "code",
   "execution_count": 233,
   "metadata": {},
   "outputs": [],
   "source": [
    "beta = np.sort(model.coefficients)"
   ]
  },
  {
   "cell_type": "code",
   "execution_count": 236,
   "metadata": {},
   "outputs": [
    {
     "data": {
      "image/png": "[encoded data removed]",
      "text/plain": [
       "<Figure size 432x288 with 1 Axes>"
      ]
     },
     "metadata": {
      "needs_background": "light"
     },
     "output_type": "display_data"
    }
   ],
   "source": [
    "plt.plot (beta)\n",
    "plt.ylabel ('beta coefficients')\n",
    "plt.show ()"
   ]
  },
  {
   "cell_type": "code",
   "execution_count": null,
   "metadata": {},
   "outputs": [],
   "source": []
  },
  {
   "cell_type": "code",
   "execution_count": null,
   "metadata": {},
   "outputs": [],
   "source": []
  },
  {
   "cell_type": "code",
   "execution_count": null,
   "metadata": {},
   "outputs": [],
   "source": []
  }
 ],
 "metadata": {
  "kernelspec": {
   "display_name": "Python 3",
   "language": "python",
   "name": "python3"
  },
  "language_info": {
   "codemirror_mode": {
    "name": "ipython",
    "version": 3
   },
   "file_extension": ".py",
   "mimetype": "text/x-python",
   "name": "python",
   "nbconvert_exporter": "python",
   "pygments_lexer": "ipython3",
   "version": "3.7.6"
  }
 },
 "nbformat": 4,
 "nbformat_minor": 4
}
