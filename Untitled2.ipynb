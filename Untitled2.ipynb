{
 "cells": [
  {
   "cell_type": "code",
   "execution_count": 7,
   "metadata": {},
   "outputs": [],
   "source": [
    "import pyspark\n",
    "import pandas as pd\n",
    "import requests\n",
    "import os\n",
    "from pyspark.sql.functions import *\n",
    "from pyspark.sql.types import StringType\n",
    "\n",
    "from pyspark.sql import SparkSession\n",
    "from pyspark import SparkContext"
   ]
  },
  {
   "cell_type": "code",
   "execution_count": 9,
   "metadata": {},
   "outputs": [],
   "source": [
    "from pyspark.sql import SparkSession\n",
    "from pyspark import SparkContext\n",
    "\n",
    "spark = SparkSession \\\n",
    "    .builder \\\n",
    "    .appName(\"Pysparkexample\") \\\n",
    "    .config(\"spark.some.config.option\", \"some-value\") \\\n",
    "    .config(\"spark.sql.broadcastTimeout\", \"36000\") \\\n",
    "    .getOrCreate()"
   ]
  },
  {
   "cell_type": "code",
   "execution_count": 3,
   "metadata": {},
   "outputs": [],
   "source": [
    "my_path = '/data/vol/depart'\n",
    "curl = requests.get('http://192.168.122.206:50070/webhdfs/v1/%s?op=LISTSTATUS&namenoderpcaddress=192.168.122.206:8020' % my_path)"
   ]
  },
  {
   "cell_type": "code",
   "execution_count": 4,
   "metadata": {},
   "outputs": [],
   "source": [
    "file_paths = []\n",
    "for file_status in curl.json()['FileStatuses']['FileStatus']:\n",
    "    file_name = file_status['pathSuffix']\n",
    "    # this is the file name in the queried directory\n",
    "    if file_name.endswith('.csv'):\n",
    "    # if statement is only required if the directory contains unwanted files (i.e. non-csvs).\n",
    "        file_paths.append(os.path.join(my_path, file_name))\n",
    "        # os.path.join asserts your result consists of absolute path"
   ]
  },
  {
   "cell_type": "code",
   "execution_count": 5,
   "metadata": {},
   "outputs": [],
   "source": [
    "df_keys = spark.read.csv('hdfs://192.168.122.206:8020/data/keys.csv', header=True)"
   ]
  },
  {
   "cell_type": "code",
   "execution_count": 6,
   "metadata": {},
   "outputs": [
    {
     "data": {
      "text/plain": [
       "Row(primary_keys='2020-01-21 07:00:00 AFR1656', aircraft_aircrafttype_iatacode='E70', aircraft_aircrafttype_icaocode='E170', aircraft_aircrafttype_modelname='Embraer Rj170', airlines_airline_iatacode='AF', airlines_airline_icaocode='AFR', airlines_airline_name='Air France', airlines_operator_iatacode='AF', airlines_operator_icaocode='AFR', airlines_operator_name='Air France', airportresources_boarding_departurelounge='U    ', airportresources_boarding_gates='U', airportresources_checkin_checkinarea='20', airportresources_checkin_desks='20.02 to 20.19', airportresources_terminal='T2   ', airports_destination_iatacode='BOD', airports_destination_icaocode='LFBD', airports_destination_name='Bordeaux', airports_next_iatacode='BOD', airports_next_icaocode='LFBD', airports_next_name='Bordeaux', countrytype_code='N', countrytype_description='National', flightnumbers_callsign='AFR1656 ', flightnumbers_iataflightnumber='AF 1656', flightnumbers_icaoflightnumber='AFR1656', flightnumbers_internalflightnumber='AF1656  ', flightnumbers_operatoriataflightnumber='AF 1656', flightnumbers_operatoricaoflightnumber='AFR1656 ', flightnumbers_operatorinternalflightnumber='AF1656  ', flightnumbers_operatorsuffix='None', flightnumbers_operatortripnumber='1656', flightnumbers_suffix='None', flightnumbers_tripnumber='1656', flightstatus_code='PLN', flightstatus_description='Scheduled, initial status after flight was created', gid='1011753733', last_update_fme='2020-01-20 16:25:47', publiccomment='None', remark_code='None', remark_description='None', servicetype_description='Passenger scheduled', servicetype_iatacode='J', timestamps_aobt='None', timestamps_atot='None', timestamps_cancellationdate='None', timestamps_eobt='2020-01-21 07:00:00', timestamps_modificationdate='2020-01-20 10:07:05', timestamps_sobt='2020-01-21 07:00:00', turnflightinternalid='None')"
      ]
     },
     "execution_count": 6,
     "metadata": {},
     "output_type": "execute_result"
    }
   ],
   "source": [
    "df = spark.read.csv('hdfs://192.168.122.206:8020'+file_paths[2], header='true')\n",
    "df = df.drop('_c0')\n",
    "\n",
    "df = df.where(col(\"flightnumbers_icaoflightnumber\").isNotNull())\n",
    "df = df.withColumn('flightnumbers_icaoflightnumber', regexp_replace('flightnumbers_icaoflightnumber', '   ', ''))\n",
    "df = df.withColumn('flightnumbers_icaoflightnumber', regexp_replace('flightnumbers_icaoflightnumber', '  ', ''))\n",
    "df = df.withColumn('flightnumbers_icaoflightnumber', regexp_replace('flightnumbers_icaoflightnumber', ' ', ''))\n",
    "df = df.withColumn(\"primary_keys\", concat(col('timestamps_eobt'), lit(' '), col('flightnumbers_icaoflightnumber')))\n",
    "df = df.dropDuplicates(['primary_keys'])\n",
    "\n",
    "df_keys = df_keys.union(df.select('primary_keys')).distinct()\n",
    "df = df.join(df_keys, on = ['primary_keys'], how = 'left_semi').distinct()\n",
    "\n",
    "df.first()"
   ]
  }
 ],
 "metadata": {
  "kernelspec": {
   "display_name": "Python 3",
   "language": "python",
   "name": "python3"
  },
  "language_info": {
   "codemirror_mode": {
    "name": "ipython",
    "version": 3
   },
   "file_extension": ".py",
   "mimetype": "text/x-python",
   "name": "python",
   "nbconvert_exporter": "python",
   "pygments_lexer": "ipython3",
   "version": "3.7.6"
  }
 },
 "nbformat": 4,
 "nbformat_minor": 4
}
