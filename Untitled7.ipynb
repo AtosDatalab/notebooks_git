{
 "cells": [
  {
   "cell_type": "code",
   "execution_count": 33,
   "metadata": {},
   "outputs": [],
   "source": [
    "import findspark    \n",
    "import pandas as pd\n",
    "import numpy as np\n",
    "from pyspark import SparkContext\n",
    "from pyspark.sql.session import SparkSession\n",
    "from pyspark.ml.feature import VectorAssembler \n",
    "from pyspark.sql.functions import col\n"
   ]
  },
  {
   "cell_type": "code",
   "execution_count": 35,
   "metadata": {},
   "outputs": [],
   "source": [
    "#sc = SparkContext('local')\n",
    "spark = SparkSession(sc)"
   ]
  },
  {
   "cell_type": "code",
   "execution_count": 36,
   "metadata": {},
   "outputs": [],
   "source": [
    "df = spark.read.csv(\"hdfs://192.168.122.206:8020/testN/EcommerceCustomers.csv\")"
   ]
  },
  {
   "cell_type": "code",
   "execution_count": 37,
   "metadata": {},
   "outputs": [
    {
     "name": "stdout",
     "output_type": "stream",
     "text": [
      "root\n",
      " |-- _c0: string (nullable = true)\n",
      " |-- _c1: string (nullable = true)\n",
      " |-- _c2: string (nullable = true)\n",
      " |-- _c3: string (nullable = true)\n",
      " |-- _c4: string (nullable = true)\n",
      " |-- _c5: string (nullable = true)\n",
      " |-- _c6: string (nullable = true)\n",
      " |-- _c7: string (nullable = true)\n",
      "\n"
     ]
    }
   ],
   "source": [
    "df.printSchema()"
   ]
  },
  {
   "cell_type": "code",
   "execution_count": 38,
   "metadata": {},
   "outputs": [],
   "source": [
    "# File location and type\n",
    "file_location = \"hdfs://192.168.122.206:8020/testN/EcommerceCustomers.csv\"\n",
    "file_type = \"csv\"\n",
    "\n",
    "# CSV options\n",
    "infer_schema = \"false\"\n",
    "first_row_is_header = \"true\"\n",
    "delimiter = \",\"\n",
    "\n",
    "# The applied options are for CSV files. For other file types, these will be ignored.\n",
    "df = spark.read.format(file_type) \\\n",
    "  .option(\"inferSchema\", infer_schema) \\\n",
    "  .option(\"header\", first_row_is_header) \\\n",
    "  .option(\"sep\", delimiter) \\\n",
    "  .load(file_location)"
   ]
  },
  {
   "cell_type": "code",
   "execution_count": 39,
   "metadata": {},
   "outputs": [
    {
     "name": "stdout",
     "output_type": "stream",
     "text": [
      "+--------------------+--------------------+------------------+------------------+------------------+------------------+--------------------+-------------------+\n",
      "|               Email|             Address|            Avatar|Avg Session Length|       Time on App|   Time on Website|Length of Membership|Yearly Amount Spent|\n",
      "+--------------------+--------------------+------------------+------------------+------------------+------------------+--------------------+-------------------+\n",
      "|mstephenson@ferna...|    835 Frank Tunnel|              null|              null|              null|              null|                null|               null|\n",
      "|         Wrightmouth|      MI 82180-9605\"|            Violet| 34.49726772511229|12.655651149166752| 39.57766801952616|   4.082620632952961|  587.9510539684005|\n",
      "|   hduke@hotmail.com|  4547 Archer Common|              null|              null|              null|              null|                null|               null|\n",
      "|         Diazchester|      CA 06566-8576\"|         DarkGreen|31.926272026360156|11.109460728682564|37.268958868297744|    2.66403418213262|  392.2049334443264|\n",
      "|    pallen@yahoo.com|24645 Valerie Uni...|              null|              null|              null|              null|                null|               null|\n",
      "|         Cobbborough|      DC 99414-7564\"|            Bisque|33.000914755642675|11.330278057777512| 37.11059744212085|   4.104543202376424| 487.54750486747207|\n",
      "|riverarebecca@gma...|1414 David Throug...|              null|              null|              null|              null|                null|               null|\n",
      "|          Port Jason|      OH 22070-1220\"|       SaddleBrown| 34.30555662975554|13.717513665142508| 36.72128267790313|  3.1201787827480914|  581.8523440352178|\n",
      "|mstephens@davidso...|14023 Rodriguez P...|              null|              null|              null|              null|                null|               null|\n",
      "|     Port Jacobville|      PR 37242-1057\"|  MediumAquaMarine| 33.33067252364639|12.795188551078114| 37.53665330059473|   4.446308318351435|  599.4060920457634|\n",
      "|alvareznancy@luca...|645 Martha Park A...|              null|              null|              null|              null|                null|               null|\n",
      "|      Jeffreychester|      MN 67218-7250\"|       FloralWhite| 33.87103787934198|12.026925339755058| 34.47687762925054|   5.493507201364199|   637.102447915074|\n",
      "|katherine20@yahoo...|68388 Reyes Light...|              null|              null|              null|              null|                null|               null|\n",
      "|          Josephbury|      WV 92213-0247\"|     DarkSlateBlue| 32.02159550138701|11.366348309710526|36.683776152869605|  4.6850172465709115|  521.5721747578274|\n",
      "|  awatkins@yahoo.com|  Unit 6538 Box 8980|              null|              null|              null|              null|                null|               null|\n",
      "|  DPO AP 09026-4941\"|                Aqua|32.739142938380326| 12.35195897300293|37.373358858547554|4.4342734348999375|   549.9041461052942|               null|\n",
      "|vchurch@walter-ma...|         860 Lee Key|              null|              null|              null|              null|                null|               null|\n",
      "|          West Debra|      SD 97450-0495\"|            Salmon| 33.98777289568564|13.386235275676434|37.534497341555735|  3.2734335777477144|  570.2004089636195|\n",
      "|    bonnie69@lin.biz|  PSC 2734, Box 5255|              null|              null|              null|              null|                null|               null|\n",
      "|  APO AA 98456-7482\"|               Brown|31.936548618448914|11.814128294972196| 37.14516822352819| 3.202806071553459|  427.19938489532814|               null|\n",
      "+--------------------+--------------------+------------------+------------------+------------------+------------------+--------------------+-------------------+\n",
      "only showing top 20 rows\n",
      "\n"
     ]
    }
   ],
   "source": [
    "df.show()"
   ]
  },
  {
   "cell_type": "code",
   "execution_count": 40,
   "metadata": {},
   "outputs": [
    {
     "name": "stdout",
     "output_type": "stream",
     "text": [
      "root\n",
      " |-- Email: string (nullable = true)\n",
      " |-- Address: string (nullable = true)\n",
      " |-- Avatar: string (nullable = true)\n",
      " |-- Avg Session Length: string (nullable = true)\n",
      " |-- Time on App: string (nullable = true)\n",
      " |-- Time on Website: string (nullable = true)\n",
      " |-- Length of Membership: string (nullable = true)\n",
      " |-- Yearly Amount Spent: string (nullable = true)\n",
      "\n"
     ]
    }
   ],
   "source": [
    "df.printSchema()"
   ]
  },
  {
   "cell_type": "raw",
   "metadata": {},
   "source": [
    "df.select('Email').show()"
   ]
  },
  {
   "cell_type": "code",
   "execution_count": 41,
   "metadata": {},
   "outputs": [
    {
     "name": "stdout",
     "output_type": "stream",
     "text": [
      "+------------------+---------------+----------------+------------------+------------------+------------------+--------------------+-------------------+\n",
      "|             Email|        Address|          Avatar|Avg Session Length|       Time on App|   Time on Website|Length of Membership|Yearly Amount Spent|\n",
      "+------------------+---------------+----------------+------------------+------------------+------------------+--------------------+-------------------+\n",
      "|       Wrightmouth| MI 82180-9605\"|          Violet| 34.49726772511229|12.655651149166752| 39.57766801952616|   4.082620632952961|  587.9510539684005|\n",
      "|       Diazchester| CA 06566-8576\"|       DarkGreen|31.926272026360156|11.109460728682564|37.268958868297744|    2.66403418213262|  392.2049334443264|\n",
      "|       Cobbborough| DC 99414-7564\"|          Bisque|33.000914755642675|11.330278057777512| 37.11059744212085|   4.104543202376424| 487.54750486747207|\n",
      "|        Port Jason| OH 22070-1220\"|     SaddleBrown| 34.30555662975554|13.717513665142508| 36.72128267790313|  3.1201787827480914|  581.8523440352178|\n",
      "|   Port Jacobville| PR 37242-1057\"|MediumAquaMarine| 33.33067252364639|12.795188551078114| 37.53665330059473|   4.446308318351435|  599.4060920457634|\n",
      "|    Jeffreychester| MN 67218-7250\"|     FloralWhite| 33.87103787934198|12.026925339755058| 34.47687762925054|   5.493507201364199|   637.102447915074|\n",
      "|        Josephbury| WV 92213-0247\"|   DarkSlateBlue| 32.02159550138701|11.366348309710526|36.683776152869605|  4.6850172465709115|  521.5721747578274|\n",
      "|        West Debra| SD 97450-0495\"|          Salmon| 33.98777289568564|13.386235275676434|37.534497341555735|  3.2734335777477144|  570.2004089636195|\n",
      "|    Alexandriaport| WY 28244-9149\"|          Tomato| 33.99257277495374|13.338975447662111| 37.22580613162114|  2.4826077705105956|  492.6060127179966|\n",
      "|    Lake Shanestad| MO 75696-5051\"|       RoyalBlue|29.532428967057946|10.961298400154098| 37.42021557502538|   4.046423164299585| 408.64035107262754|\n",
      "|New Stephaniehaven|      MP 42268\"|          Bisque| 33.19033404372265|12.959226091609382|36.144666700041924|  3.9185418391589986|  573.4158673313865|\n",
      "|      Samanthaland|      ND 44358\"|        DarkBlue| 32.38797585315387|13.148725692056516| 36.61995708279922|   2.494543646659249| 470.45273330095546|\n",
      "|       Phillipstad| OH 35641-3238\"|            Peru|30.737720372628186|12.636606052000129|36.213763093698624|   3.357846842326294|  461.7807421962299|\n",
      "|       Johnsonfurt|      GA 15169\"|      PowderBlue| 32.12538689728784|11.733861690857392|  34.8940927514398|  3.1361327164897803| 457.84769594494855|\n",
      "|         Wilsonton|      PW 88606\"|       OliveDrab| 32.33889932306719|  12.0131946940144| 38.38513659413844|   2.420806160901484|  407.7045475495441|\n",
      "|    Port Dannytown|      PW 63227\"|            Cyan|32.187812045932155|14.715387544156501|38.244114594343515|  1.5165755808319439| 452.31567548003545|\n",
      "|    North Johnview|      MT 57912\"|   LightSeaGreen| 32.61785606282345|13.989592555825254|37.190503800397956|   4.064548550437977|   605.061038804892|\n",
      "|      North Teresa|      KY 50756\"|       PeachPuff| 32.91278511115979|11.365492025516156| 37.60779252420698|   4.599937357614995|  534.7057438060227|\n",
      "|       Nicholsbury| WV 60804-4440\"|           Wheat| 34.50755099852662|12.893669504071738| 37.63575587790592|   5.705153970601026|  700.9170916173961|\n",
      "|         Glassport| ND 17957-5596\"|            Teal| 33.02933195350689|11.765812645482358|37.738524945579094|  2.7217359920452187| 423.17999168059777|\n",
      "+------------------+---------------+----------------+------------------+------------------+------------------+--------------------+-------------------+\n",
      "only showing top 20 rows\n",
      "\n"
     ]
    }
   ],
   "source": [
    "dfn = df.na.drop()\n",
    "dfn.show()"
   ]
  },
  {
   "cell_type": "code",
   "execution_count": 42,
   "metadata": {},
   "outputs": [
    {
     "name": "stdout",
     "output_type": "stream",
     "text": [
      "+--------------------+\n",
      "|               Email|\n",
      "+--------------------+\n",
      "|mstephenson@ferna...|\n",
      "|         Wrightmouth|\n",
      "|   hduke@hotmail.com|\n",
      "|         Diazchester|\n",
      "|    pallen@yahoo.com|\n",
      "|         Cobbborough|\n",
      "|riverarebecca@gma...|\n",
      "|          Port Jason|\n",
      "|mstephens@davidso...|\n",
      "|     Port Jacobville|\n",
      "|alvareznancy@luca...|\n",
      "|      Jeffreychester|\n",
      "|katherine20@yahoo...|\n",
      "|          Josephbury|\n",
      "|  awatkins@yahoo.com|\n",
      "|  DPO AP 09026-4941\"|\n",
      "|vchurch@walter-ma...|\n",
      "|          West Debra|\n",
      "|    bonnie69@lin.biz|\n",
      "|  APO AA 98456-7482\"|\n",
      "+--------------------+\n",
      "only showing top 20 rows\n",
      "\n"
     ]
    }
   ],
   "source": [
    "df.select('Email').show()"
   ]
  },
  {
   "cell_type": "code",
   "execution_count": 43,
   "metadata": {},
   "outputs": [
    {
     "name": "stdout",
     "output_type": "stream",
     "text": [
      "root\n",
      " |-- Email: string (nullable = true)\n",
      " |-- Address: string (nullable = true)\n",
      " |-- Avatar: string (nullable = true)\n",
      " |-- Avg Session Length: string (nullable = true)\n",
      " |-- Time on App: string (nullable = true)\n",
      " |-- Time on Website: string (nullable = true)\n",
      " |-- Length of Membership: string (nullable = true)\n",
      " |-- Yearly Amount Spent: string (nullable = true)\n",
      "\n"
     ]
    }
   ],
   "source": [
    "dfn.printSchema()"
   ]
  },
  {
   "cell_type": "code",
   "execution_count": 44,
   "metadata": {},
   "outputs": [
    {
     "name": "stdout",
     "output_type": "stream",
     "text": [
      "+------------------+\n",
      "|             Email|\n",
      "+------------------+\n",
      "|       Wrightmouth|\n",
      "|       Diazchester|\n",
      "|       Cobbborough|\n",
      "|        Port Jason|\n",
      "|   Port Jacobville|\n",
      "|    Jeffreychester|\n",
      "|        Josephbury|\n",
      "|        West Debra|\n",
      "|    Alexandriaport|\n",
      "|    Lake Shanestad|\n",
      "|New Stephaniehaven|\n",
      "|      Samanthaland|\n",
      "|       Phillipstad|\n",
      "|       Johnsonfurt|\n",
      "|         Wilsonton|\n",
      "|    Port Dannytown|\n",
      "|    North Johnview|\n",
      "|      North Teresa|\n",
      "|       Nicholsbury|\n",
      "|         Glassport|\n",
      "+------------------+\n",
      "only showing top 20 rows\n",
      "\n"
     ]
    }
   ],
   "source": [
    "dfn.select('Email').show()"
   ]
  },
  {
   "cell_type": "code",
   "execution_count": 45,
   "metadata": {},
   "outputs": [
    {
     "name": "stdout",
     "output_type": "stream",
     "text": [
      "root\n",
      " |-- Email: double (nullable = true)\n",
      " |-- Address: double (nullable = true)\n",
      " |-- Avatar: double (nullable = true)\n",
      " |-- Avg Session Length: double (nullable = true)\n",
      " |-- Time on App: double (nullable = true)\n",
      " |-- Time on Website: double (nullable = true)\n",
      " |-- Length of Membership: double (nullable = true)\n",
      " |-- Yearly Amount Spent: double (nullable = true)\n",
      "\n"
     ]
    }
   ],
   "source": [
    "dfnum = dfn.select(*(col(i).cast(\"double\") for i in dfn.columns))\n",
    "dfnum.printSchema()"
   ]
  },
  {
   "cell_type": "code",
   "execution_count": 46,
   "metadata": {},
   "outputs": [
    {
     "name": "stdout",
     "output_type": "stream",
     "text": [
      "+-----+-------+------+------------------+------------------+------------------+--------------------+-------------------+\n",
      "|Email|Address|Avatar|Avg Session Length|       Time on App|   Time on Website|Length of Membership|Yearly Amount Spent|\n",
      "+-----+-------+------+------------------+------------------+------------------+--------------------+-------------------+\n",
      "| null|   null|  null| 34.49726772511229|12.655651149166752| 39.57766801952616|   4.082620632952961|  587.9510539684005|\n",
      "| null|   null|  null|31.926272026360156|11.109460728682564|37.268958868297744|    2.66403418213262|  392.2049334443264|\n",
      "| null|   null|  null|33.000914755642675|11.330278057777512| 37.11059744212085|   4.104543202376424| 487.54750486747207|\n",
      "| null|   null|  null| 34.30555662975554|13.717513665142508| 36.72128267790313|  3.1201787827480914|  581.8523440352178|\n",
      "| null|   null|  null| 33.33067252364639|12.795188551078114| 37.53665330059473|   4.446308318351435|  599.4060920457634|\n",
      "| null|   null|  null| 33.87103787934198|12.026925339755058| 34.47687762925054|   5.493507201364199|   637.102447915074|\n",
      "| null|   null|  null| 32.02159550138701|11.366348309710526|36.683776152869605|  4.6850172465709115|  521.5721747578274|\n",
      "| null|   null|  null| 33.98777289568564|13.386235275676434|37.534497341555735|  3.2734335777477144|  570.2004089636195|\n",
      "| null|   null|  null| 33.99257277495374|13.338975447662111| 37.22580613162114|  2.4826077705105956|  492.6060127179966|\n",
      "| null|   null|  null|29.532428967057946|10.961298400154098| 37.42021557502538|   4.046423164299585| 408.64035107262754|\n",
      "| null|   null|  null| 33.19033404372265|12.959226091609382|36.144666700041924|  3.9185418391589986|  573.4158673313865|\n",
      "| null|   null|  null| 32.38797585315387|13.148725692056516| 36.61995708279922|   2.494543646659249| 470.45273330095546|\n",
      "| null|   null|  null|30.737720372628186|12.636606052000129|36.213763093698624|   3.357846842326294|  461.7807421962299|\n",
      "| null|   null|  null| 32.12538689728784|11.733861690857392|  34.8940927514398|  3.1361327164897803| 457.84769594494855|\n",
      "| null|   null|  null| 32.33889932306719|  12.0131946940144| 38.38513659413844|   2.420806160901484|  407.7045475495441|\n",
      "| null|   null|  null|32.187812045932155|14.715387544156501|38.244114594343515|  1.5165755808319439| 452.31567548003545|\n",
      "| null|   null|  null| 32.61785606282345|13.989592555825254|37.190503800397956|   4.064548550437977|   605.061038804892|\n",
      "| null|   null|  null| 32.91278511115979|11.365492025516156| 37.60779252420698|   4.599937357614995|  534.7057438060227|\n",
      "| null|   null|  null| 34.50755099852662|12.893669504071738| 37.63575587790592|   5.705153970601026|  700.9170916173961|\n",
      "| null|   null|  null| 33.02933195350689|11.765812645482358|37.738524945579094|  2.7217359920452187| 423.17999168059777|\n",
      "+-----+-------+------+------------------+------------------+------------------+--------------------+-------------------+\n",
      "only showing top 20 rows\n",
      "\n"
     ]
    }
   ],
   "source": [
    "dfnum.show()"
   ]
  },
  {
   "cell_type": "raw",
   "metadata": {},
   "source": [
    "# feature_columns= dfnum.drop('Yearly Amount Spent')\n",
    "feature_columns.show()"
   ]
  },
  {
   "cell_type": "code",
   "execution_count": null,
   "metadata": {},
   "outputs": [],
   "source": []
  }
 ],
 "metadata": {
  "kernelspec": {
   "display_name": "Python 3",
   "language": "python",
   "name": "python3"
  },
  "language_info": {
   "codemirror_mode": {
    "name": "ipython",
    "version": 3
   },
   "file_extension": ".py",
   "mimetype": "text/x-python",
   "name": "python",
   "nbconvert_exporter": "python",
   "pygments_lexer": "ipython3",
   "version": "3.7.6"
  }
 },
 "nbformat": 4,
 "nbformat_minor": 4
}
